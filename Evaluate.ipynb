{
 "cells": [
  {
   "cell_type": "markdown",
   "metadata": {},
   "source": [
    "## Emotion classifier accuracy (should increase more)"
   ]
  },
  {
   "cell_type": "code",
   "execution_count": 2,
   "metadata": {},
   "outputs": [
    {
     "data": {
      "text/plain": [
       "25"
      ]
     },
     "execution_count": 2,
     "metadata": {},
     "output_type": "execute_result"
    }
   ],
   "source": [
    "EMOTION_CLASS = ['Trust', 'Interest', 'Apprehension', 'Anticipation', 'Anger',\n",
    "       'Joy', 'Fear', 'Grief', 'Serenity', 'Vigilance', 'Boredom',\n",
    "       'Ecstasy', 'Admiration', 'Acceptance', 'Sadness', 'Rage',\n",
    "       'Annoyance', 'Terror', 'Amazement', 'Surprise', 'Pensiveness',\n",
    "       'Loathing', 'Distraction', 'Disgust', 'Neutral']\n",
    "len(EMOTION_CLASS)"
   ]
  },
  {
   "cell_type": "code",
   "execution_count": null,
   "metadata": {},
   "outputs": [],
   "source": [
    "# def get_emotion_class(imagepath, emotion):\n",
    "#  returns probability of emotion class"
   ]
  },
  {
   "cell_type": "code",
   "execution_count": null,
   "metadata": {},
   "outputs": [],
   "source": [
    "# def emotion_acc_impr(sourceimgpath, targetimgpath, emotion_class):"
   ]
  },
  {
   "cell_type": "markdown",
   "metadata": {},
   "source": [
    "## LPIPS distance (should be low)"
   ]
  },
  {
   "cell_type": "code",
   "execution_count": null,
   "metadata": {},
   "outputs": [],
   "source": []
  },
  {
   "cell_type": "markdown",
   "metadata": {},
   "source": [
    "# BATCH LOAD Images (source and target and evaluate this accuracy)"
   ]
  }
 ],
 "metadata": {
  "kernelspec": {
   "display_name": "umpteenth_attempt",
   "language": "python",
   "name": "python3"
  },
  "language_info": {
   "codemirror_mode": {
    "name": "ipython",
    "version": 3
   },
   "file_extension": ".py",
   "mimetype": "text/x-python",
   "name": "python",
   "nbconvert_exporter": "python",
   "pygments_lexer": "ipython3",
   "version": "3.11.5"
  }
 },
 "nbformat": 4,
 "nbformat_minor": 2
}
