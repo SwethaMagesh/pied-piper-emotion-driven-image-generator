{
 "cells": [
  {
   "cell_type": "markdown",
   "metadata": {},
   "source": [
    "\n",
    "## imports"
   ]
  },
  {
   "cell_type": "code",
   "execution_count": 2,
   "metadata": {},
   "outputs": [],
   "source": [
    "## imports\n",
    "import pandas as pd\n"
   ]
  },
  {
   "cell_type": "code",
   "execution_count": 5,
   "metadata": {},
   "outputs": [
    {
     "data": {
      "text/plain": [
       "emotion\n",
       "Joy             3971\n",
       "Interest        2688\n",
       "Serenity        1972\n",
       "Anticipation    1780\n",
       "Vigilance       1433\n",
       "Apprehension    1400\n",
       "Acceptance      1388\n",
       "Trust           1145\n",
       "Sadness         1092\n",
       "Ecstasy         1083\n",
       "Admiration      1016\n",
       "Annoyance       1008\n",
       "Anger            985\n",
       "Grief            867\n",
       "Pensiveness      706\n",
       "Fear             679\n",
       "Boredom          587\n",
       "Rage             446\n",
       "Distraction      356\n",
       "Terror           322\n",
       "Surprise         311\n",
       "Disgust          248\n",
       "Amazement        221\n",
       "Loathing         165\n",
       "Name: count, dtype: int64"
      ]
     },
     "execution_count": 5,
     "metadata": {},
     "output_type": "execute_result"
    }
   ],
   "source": [
    "ann = pd.read_csv('/mnt/nas/swethamagesh/emotion/findingemo/data/annotations_single.ann')\n",
    "ann['emotion'].value_counts()"
   ]
  },
  {
   "cell_type": "code",
   "execution_count": 6,
   "metadata": {},
   "outputs": [
    {
     "data": {
      "text/plain": [
       "0             /Run_2/Loving toddlers sports/haiti-kids.jpg\n",
       "1        /Run_2/Frustrated forty-something office/team-...\n",
       "2             /Run_1/Violent youth festival/1042373588.jpg\n",
       "3        /Run_2/Remorseful toddlers court of law/dcfs-c...\n",
       "4               /Run_2/Shame elderly sports/3364887-46.jpg\n",
       "                               ...                        \n",
       "25864    /Run_2/Fearful forty-something holiday/male-bi...\n",
       "25865    /Run_2/Disgusted children anniversary/8-May-20...\n",
       "25866     /Run_2/Satisfied students desert/justin-w-01.jpg\n",
       "25867    /Run_2/Disgusted forty-something funeral/12626...\n",
       "25868          /Run_2/Irritated soldiers army/kscn0008.jpg\n",
       "Name: image_path, Length: 25869, dtype: object"
      ]
     },
     "execution_count": 6,
     "metadata": {},
     "output_type": "execute_result"
    }
   ],
   "source": [
    "ann['image_path']"
   ]
  }
 ],
 "metadata": {
  "kernelspec": {
   "display_name": "umpteenth_attempt",
   "language": "python",
   "name": "python3"
  },
  "language_info": {
   "codemirror_mode": {
    "name": "ipython",
    "version": 3
   },
   "file_extension": ".py",
   "mimetype": "text/x-python",
   "name": "python",
   "nbconvert_exporter": "python",
   "pygments_lexer": "ipython3",
   "version": "3.11.5"
  }
 },
 "nbformat": 4,
 "nbformat_minor": 2
}
