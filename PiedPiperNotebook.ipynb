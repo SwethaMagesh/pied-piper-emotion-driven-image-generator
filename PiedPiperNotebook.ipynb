{
 "cells": [
  {
   "cell_type": "markdown",
   "metadata": {},
   "source": [
    "\n",
    "## imports"
   ]
  },
  {
   "cell_type": "code",
   "execution_count": 2,
   "metadata": {},
   "outputs": [],
   "source": [
    "## imports\n",
    "import pandas as pd\n"
   ]
  },
  {
   "cell_type": "markdown",
   "metadata": {},
   "source": [
    "## View dataset"
   ]
  },
  {
   "cell_type": "code",
   "execution_count": null,
   "metadata": {},
   "outputs": [],
   "source": []
  },
  {
   "cell_type": "code",
   "execution_count": 3,
   "metadata": {},
   "outputs": [
    {
     "data": {
      "text/plain": [
       "array(['Trust', 'Interest', 'Apprehension', 'Anticipation', 'Anger',\n",
       "       'Joy', 'Fear', 'Grief', 'Serenity', 'Vigilance', 'Boredom',\n",
       "       'Ecstasy', 'Admiration', 'Acceptance', 'Sadness', 'Rage',\n",
       "       'Annoyance', 'Terror', 'Amazement', 'Surprise', 'Pensiveness',\n",
       "       'Loathing', 'Distraction', 'Disgust'], dtype=object)"
      ]
     },
     "execution_count": 3,
     "metadata": {},
     "output_type": "execute_result"
    }
   ],
   "source": [
    "ann = pd.read_csv('/mnt/nas/swethamagesh/emotion/findingemo/data/annotations_single.ann')\n",
    "ann['emotion'].unique()"
   ]
  },
  {
   "cell_type": "code",
   "execution_count": 6,
   "metadata": {},
   "outputs": [
    {
     "data": {
      "text/plain": [
       "0             /Run_2/Loving toddlers sports/haiti-kids.jpg\n",
       "1        /Run_2/Frustrated forty-something office/team-...\n",
       "2             /Run_1/Violent youth festival/1042373588.jpg\n",
       "3        /Run_2/Remorseful toddlers court of law/dcfs-c...\n",
       "4               /Run_2/Shame elderly sports/3364887-46.jpg\n",
       "                               ...                        \n",
       "25864    /Run_2/Fearful forty-something holiday/male-bi...\n",
       "25865    /Run_2/Disgusted children anniversary/8-May-20...\n",
       "25866     /Run_2/Satisfied students desert/justin-w-01.jpg\n",
       "25867    /Run_2/Disgusted forty-something funeral/12626...\n",
       "25868          /Run_2/Irritated soldiers army/kscn0008.jpg\n",
       "Name: image_path, Length: 25869, dtype: object"
      ]
     },
     "execution_count": 6,
     "metadata": {},
     "output_type": "execute_result"
    }
   ],
   "source": [
    "ann['image_path']"
   ]
  },
  {
   "cell_type": "code",
   "execution_count": null,
   "metadata": {},
   "outputs": [],
   "source": []
  }
 ],
 "metadata": {
  "kernelspec": {
   "display_name": "umpteenth_attempt",
   "language": "python",
   "name": "python3"
  },
  "language_info": {
   "codemirror_mode": {
    "name": "ipython",
    "version": 3
   },
   "file_extension": ".py",
   "mimetype": "text/x-python",
   "name": "python",
   "nbconvert_exporter": "python",
   "pygments_lexer": "ipython3",
   "version": "3.11.5"
  }
 },
 "nbformat": 4,
 "nbformat_minor": 2
}
